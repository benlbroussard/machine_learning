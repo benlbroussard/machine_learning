{
 "cells": [
  {
   "cell_type": "code",
   "execution_count": 46,
   "metadata": {},
   "outputs": [],
   "source": [
    "dig_clock = {'zero':[1,1,1,0,1,1,1],'one':[0,0,1,0,1,0,0],'two':[0,1,1,1,0,1,1],'three':[0,1,1,1,1,1,0], \\\n",
    "             'four':[1,0,1,1,1,0,0],'five':[1,1,0,1,1,1,0],'six':[0,1,1,1,1,1,1],'seven':[1,1,1,0,1,0,0], \\\n",
    "             'eight':[1,1,1,1,1,1,1],'nine':[1,1,1,1,1,1,0]}\n",
    "num_to_word = ['zero','one','two','three','four','five','six','seven','eight','nine']"
   ]
  },
  {
   "cell_type": "code",
   "execution_count": 47,
   "metadata": {},
   "outputs": [
    {
     "data": {
      "text/plain": [
       "[1, 1, 1, 0, 1, 1, 1]"
      ]
     },
     "execution_count": 47,
     "metadata": {},
     "output_type": "execute_result"
    }
   ],
   "source": [
    "dig_clock['zero']"
   ]
  },
  {
   "cell_type": "code",
   "execution_count": 48,
   "metadata": {},
   "outputs": [],
   "source": [
    "def get_num_from_list(num_list):\n",
    "    word = list(dig_clock.keys())[list(dig_clock.values()).index(num_list)]\n",
    "    return num_to_word.index(word)"
   ]
  },
  {
   "cell_type": "code",
   "execution_count": 49,
   "metadata": {},
   "outputs": [
    {
     "data": {
      "text/plain": [
       "8"
      ]
     },
     "execution_count": 49,
     "metadata": {},
     "output_type": "execute_result"
    }
   ],
   "source": [
    "get_num_from_list([1,1,1,1,1,1,1])"
   ]
  },
  {
   "cell_type": "code",
   "execution_count": 50,
   "metadata": {},
   "outputs": [],
   "source": [
    "def get_word_from_list(num_list):\n",
    "    return list(dig_clock.keys())[list(dig_clock.values()).index(num_list)]"
   ]
  },
  {
   "cell_type": "code",
   "execution_count": 51,
   "metadata": {},
   "outputs": [
    {
     "data": {
      "text/plain": [
       "'eight'"
      ]
     },
     "execution_count": 51,
     "metadata": {},
     "output_type": "execute_result"
    }
   ],
   "source": [
    "get_word_from_list([1,1,1,1,1,1,1])"
   ]
  },
  {
   "cell_type": "code",
   "execution_count": 52,
   "metadata": {},
   "outputs": [],
   "source": [
    "def get_list_from_num(num):\n",
    "    word = num_to_word[num]\n",
    "    return dig_clock[word]"
   ]
  },
  {
   "cell_type": "code",
   "execution_count": 53,
   "metadata": {},
   "outputs": [
    {
     "data": {
      "text/plain": [
       "[0, 1, 1, 1, 1, 1, 0]"
      ]
     },
     "execution_count": 53,
     "metadata": {},
     "output_type": "execute_result"
    }
   ],
   "source": [
    "get_list_from_num(3)"
   ]
  },
  {
   "cell_type": "code",
   "execution_count": 54,
   "metadata": {},
   "outputs": [],
   "source": [
    "def get_list_from_word(word):\n",
    "    return dig_clock[word]"
   ]
  },
  {
   "cell_type": "code",
   "execution_count": 55,
   "metadata": {},
   "outputs": [
    {
     "data": {
      "text/plain": [
       "[1, 1, 1, 1, 1, 1, 1]"
      ]
     },
     "execution_count": 55,
     "metadata": {},
     "output_type": "execute_result"
    }
   ],
   "source": [
    "get_list_from_word('eight')"
   ]
  },
  {
   "cell_type": "markdown",
   "metadata": {},
   "source": [
    "<hr /><p>I should probably just use ints instead of names in dig_clock dictionary. Let's see how the code goes.</p><hr />"
   ]
  },
  {
   "cell_type": "code",
   "execution_count": 56,
   "metadata": {},
   "outputs": [],
   "source": [
    "import keras"
   ]
  },
  {
   "cell_type": "code",
   "execution_count": 57,
   "metadata": {},
   "outputs": [],
   "source": [
    "import random\n",
    "\n",
    "def gen_data(num_instances): # returns list of tuples (list, answer num)\n",
    "    instances = []\n",
    "    for i in range(0,num_instances):\n",
    "        num = random.randint(0,9)\n",
    "        word = num_to_word[num]\n",
    "        dig_num = dig_clock[word]\n",
    "        instances.append((num,dig_num)) # make this a numpy array or pandas dataframe so keras can handle it\n",
    "    \n",
    "    return instances"
   ]
  },
  {
   "cell_type": "code",
   "execution_count": 58,
   "metadata": {},
   "outputs": [
    {
     "data": {
      "text/plain": [
       "[(0, [1, 1, 1, 0, 1, 1, 1]),\n",
       " (3, [0, 1, 1, 1, 1, 1, 0]),\n",
       " (1, [0, 0, 1, 0, 1, 0, 0])]"
      ]
     },
     "execution_count": 58,
     "metadata": {},
     "output_type": "execute_result"
    }
   ],
   "source": [
    "gen_data(3)"
   ]
  },
  {
   "cell_type": "code",
   "execution_count": 59,
   "metadata": {},
   "outputs": [
    {
     "name": "stdout",
     "output_type": "stream",
     "text": [
      "2.2.0\n"
     ]
    }
   ],
   "source": [
    "print(keras.__version__)"
   ]
  },
  {
   "cell_type": "code",
   "execution_count": 151,
   "metadata": {},
   "outputs": [],
   "source": [
    "from keras.models import Sequential\n",
    "from keras.layers import Dense, Activation\n",
    "from keras import optimizers\n",
    "\n",
    "model = Sequential([\n",
    "    Dense(10, input_shape=(7,)),\n",
    "    Activation('sigmoid'),\n",
    "])\n",
    "\n",
    "sgd = optimizers.SGD(lr=100.0, decay=1e-6, momentum=0.9, nesterov=True)\n",
    "model.compile(loss='categorical_crossentropy', optimizer='sgd', metrics=['accuracy'])\n",
    "\n",
    "import numpy as np\n",
    "tr_labels = np.random.randint(10, size=(1000, 1))\n",
    "tr_data = np.array([get_list_from_num(int(x)) for x in tr_labels])\n",
    "tr_one_hot_labels = keras.utils.to_categorical(tr_labels, num_classes=10)\n",
    "\n",
    "te_labels = np.random.randint(10, size=(100, 1))\n",
    "te_data = np.array([get_list_from_num(int(x)) for x in te_labels])\n",
    "te_one_hot_labels = keras.utils.to_categorical(te_labels, num_classes=10)\n",
    "\n"
   ]
  },
  {
   "cell_type": "code",
   "execution_count": 152,
   "metadata": {},
   "outputs": [
    {
     "data": {
      "text/plain": [
       "(array([1, 1, 1, 0, 1, 0, 0]),\n",
       " array([0., 0., 0., 0., 0., 0., 0., 1., 0., 0.], dtype=float32),\n",
       " array([7]))"
      ]
     },
     "execution_count": 152,
     "metadata": {},
     "output_type": "execute_result"
    }
   ],
   "source": [
    "tr_data[0],tr_one_hot_labels[0],tr_labels[0]"
   ]
  },
  {
   "cell_type": "code",
   "execution_count": 153,
   "metadata": {},
   "outputs": [
    {
     "name": "stdout",
     "output_type": "stream",
     "text": [
      "100/100 [==============================] - 0s 3ms/step\n",
      "accuracy: [2.3510832142829896, 0.07]\n",
      "Epoch 1/10\n",
      "1000/1000 [==============================] - 1s 873us/step - loss: 2.1325 - acc: 0.1780\n",
      "Epoch 2/10\n",
      "1000/1000 [==============================] - 1s 631us/step - loss: 1.8239 - acc: 0.5700 0s - loss: 1.9495 - \n",
      "Epoch 3/10\n",
      "1000/1000 [==============================] - 1s 618us/step - loss: 1.5039 - acc: 0.9510\n",
      "Epoch 4/10\n",
      "1000/1000 [==============================] - 1s 623us/step - loss: 1.2035 - acc: 0.9970\n",
      "Epoch 5/10\n",
      "1000/1000 [==============================] - 1s 603us/step - loss: 0.9674 - acc: 1.0000\n",
      "Epoch 6/10\n",
      "1000/1000 [==============================] - 1s 618us/step - loss: 0.7898 - acc: 1.0000\n",
      "Epoch 7/10\n",
      "1000/1000 [==============================] - 1s 615us/step - loss: 0.6604 - acc: 1.0000\n",
      "Epoch 8/10\n",
      "1000/1000 [==============================] - 1s 630us/step - loss: 0.5622 - acc: 1.0000\n",
      "Epoch 9/10\n",
      "1000/1000 [==============================] - 1s 628us/step - loss: 0.4864 - acc: 1.0000\n",
      "Epoch 10/10\n",
      "1000/1000 [==============================] - 1s 625us/step - loss: 0.4264 - acc: 1.0000\n",
      "100/100 [==============================] - 0s 379us/step\n",
      "accuracy: [0.42650337517261505, 1.0]\n"
     ]
    }
   ],
   "source": [
    "batch_sz = 1\n",
    "score = model.evaluate(te_data, te_one_hot_labels, batch_size=batch_sz)\n",
    "print(\"accuracy: \" + str(score))\n",
    "\n",
    "model.fit(tr_data, tr_one_hot_labels,\n",
    "          epochs=10,\n",
    "          batch_size=batch_sz)\n",
    "\n",
    "score = model.evaluate(te_data, te_one_hot_labels, batch_size=batch_sz)\n",
    "print(\"accuracy: \" + str(score))"
   ]
  },
  {
   "cell_type": "code",
   "execution_count": 154,
   "metadata": {},
   "outputs": [
    {
     "data": {
      "text/plain": [
       "(array([[0, 1, 1, 1, 0, 1, 1]]),\n",
       " array([2]),\n",
       " array([0., 0., 1., 0., 0., 0., 0., 0., 0., 0.], dtype=float32))"
      ]
     },
     "execution_count": 154,
     "metadata": {},
     "output_type": "execute_result"
    }
   ],
   "source": [
    "te_data[0:1],te_labels[0],te_one_hot_labels[0]"
   ]
  },
  {
   "cell_type": "code",
   "execution_count": 155,
   "metadata": {},
   "outputs": [
    {
     "data": {
      "text/plain": [
       "array([[0.0071473 , 0.00084492, 0.33898175, 0.01811392, 0.00091136,\n",
       "        0.00219813, 0.07548349, 0.00043848, 0.03149257, 0.00860818]],\n",
       "      dtype=float32)"
      ]
     },
     "execution_count": 155,
     "metadata": {},
     "output_type": "execute_result"
    }
   ],
   "source": [
    "model.predict(te_data[0:1])"
   ]
  },
  {
   "cell_type": "code",
   "execution_count": 166,
   "metadata": {},
   "outputs": [
    {
     "data": {
      "text/plain": [
       "array([ 0.22176346, -1.8764948 , -2.2045615 , -3.2455192 ,  0.3714237 ,\n",
       "        0.1823916 , -2.7911081 ,  0.681877  ,  0.82412493,  0.6646635 ],\n",
       "      dtype=float32)"
      ]
     },
     "execution_count": 166,
     "metadata": {},
     "output_type": "execute_result"
    }
   ],
   "source": [
    "model.get_weights()[0][0]"
   ]
  },
  {
   "cell_type": "code",
   "execution_count": 182,
   "metadata": {},
   "outputs": [
    {
     "data": {
      "text/plain": [
       "(7, (None, 10))"
      ]
     },
     "execution_count": 182,
     "metadata": {},
     "output_type": "execute_result"
    }
   ],
   "source": [
    "model.layers[0].input_shape[1],model.layers[0].output_shape"
   ]
  },
  {
   "cell_type": "code",
   "execution_count": 212,
   "metadata": {},
   "outputs": [],
   "source": [
    "from keras.models import Sequential\n",
    "from keras.layers import Dense, Activation\n",
    "from keras import optimizers\n",
    "\n",
    "model = Sequential([\n",
    "    Dense(6, input_shape=(9,), activation='sigmoid'),\n",
    "    Dense(13, activation='sigmoid'),\n",
    "])\n",
    "\n",
    "sgd = optimizers.SGD(lr=100.0, decay=1e-6, momentum=0.9, nesterov=True)\n",
    "model.compile(loss='categorical_crossentropy', optimizer='sgd', metrics=['accuracy'])"
   ]
  },
  {
   "cell_type": "code",
   "execution_count": 217,
   "metadata": {},
   "outputs": [
    {
     "name": "stdout",
     "output_type": "stream",
     "text": [
      "nodes_list: [9, 6, 13]\n",
      "num_layers: 3\n"
     ]
    }
   ],
   "source": [
    "def visualize(model):\n",
    "    nodes_list = [layer.units for layer in model.layers]\n",
    "    nodes_list.insert(0,model.input_shape[1])\n",
    "    num_layers = len(nodes_list)\n",
    "    print(\"nodes_list: \" + str(nodes_list))\n",
    "    print(\"num_layers: \" + str(num_layers))\n",
    "    \n",
    "    # figure out x spread for any given number of layers and y spread for any given number of nodes in a layer\n",
    "    # get biases for nodes; negatives are red, posatives are blue, alpha (opacity) is a scaled value, 1=opaque (per layer?)\n",
    "    # draw nodes as dots, keep in list, connect with lines using pyplot\n",
    "\n",
    "visualize(model)"
   ]
  },
  {
   "cell_type": "code",
   "execution_count": 209,
   "metadata": {},
   "outputs": [
    {
     "data": {
      "text/plain": [
       "2"
      ]
     },
     "execution_count": 209,
     "metadata": {},
     "output_type": "execute_result"
    }
   ],
   "source": [
    "len(model.layers)"
   ]
  },
  {
   "cell_type": "code",
   "execution_count": 210,
   "metadata": {},
   "outputs": [
    {
     "name": "stdout",
     "output_type": "stream",
     "text": [
      "units: 6\n",
      "units: 13\n"
     ]
    }
   ],
   "source": [
    "for layer in model.layers:\n",
    "    print(\"units: \" + str(layer.units))"
   ]
  },
  {
   "cell_type": "code",
   "execution_count": 205,
   "metadata": {},
   "outputs": [
    {
     "name": "stdout",
     "output_type": "stream",
     "text": [
      "input shape: 9\n",
      "weights: [array([[-0.25357652, -0.4215994 ,  0.424802  ,  0.4947012 ,  0.02668744,\n",
      "        -0.07554597],\n",
      "       [-0.57381094,  0.39926237, -0.3112    ,  0.51051027,  0.46712548,\n",
      "         0.5045845 ],\n",
      "       [ 0.49695748, -0.2851946 , -0.61074203,  0.5464452 , -0.28125674,\n",
      "        -0.20040557],\n",
      "       [-0.5652343 , -0.28832528, -0.57256114,  0.02061951,  0.15885258,\n",
      "         0.33459735],\n",
      "       [-0.36715075, -0.55959934, -0.49319434, -0.02887583, -0.50579476,\n",
      "        -0.51912963],\n",
      "       [-0.29534227, -0.40067753,  0.61100715,  0.43287104, -0.42674458,\n",
      "         0.57133716],\n",
      "       [ 0.00998479, -0.47309446, -0.2033909 , -0.07374102, -0.61247313,\n",
      "        -0.38401034],\n",
      "       [-0.5131629 ,  0.58526593, -0.03803778,  0.46690232, -0.3936153 ,\n",
      "         0.32172054],\n",
      "       [ 0.02513683,  0.07300246, -0.46112844, -0.2061283 , -0.40014133,\n",
      "         0.4681211 ]], dtype=float32), array([0., 0., 0., 0., 0., 0.], dtype=float32)]\n",
      "weights: [array([[-0.15410623,  0.31347638,  0.5169576 ,  0.49002868,  0.02073628,\n",
      "        -0.46071026, -0.28162178,  0.33036613, -0.22425893, -0.25487167,\n",
      "        -0.02183145, -0.00623941, -0.27522036],\n",
      "       [-0.5257641 ,  0.36868632, -0.40904903, -0.21210897,  0.1155774 ,\n",
      "        -0.35561556, -0.15586552,  0.24422723,  0.11194843,  0.09429771,\n",
      "        -0.12132972,  0.35708433, -0.03582668],\n",
      "       [-0.5307696 , -0.07782209, -0.06366393, -0.27741736,  0.35727835,\n",
      "        -0.12988016,  0.43617928, -0.00963289, -0.13381916, -0.12623203,\n",
      "         0.48568565, -0.38447717, -0.36624587],\n",
      "       [-0.48440522,  0.49922782,  0.31772113,  0.08722866, -0.48324457,\n",
      "         0.13434488,  0.33682907,  0.09121174, -0.01515901, -0.13272241,\n",
      "        -0.03862512, -0.2656206 , -0.4657211 ],\n",
      "       [-0.5597029 ,  0.50428206, -0.42474502,  0.24734658, -0.30270872,\n",
      "        -0.5150353 ,  0.50310344,  0.00327355,  0.17941886, -0.20424584,\n",
      "        -0.25956458,  0.11640191, -0.3686409 ],\n",
      "       [ 0.51195985,  0.18145174,  0.2277925 , -0.4817077 , -0.30469334,\n",
      "        -0.02802771,  0.07670391, -0.4288633 , -0.02152568,  0.01391017,\n",
      "         0.55248564,  0.09793818,  0.05952704]], dtype=float32), array([0., 0., 0., 0., 0., 0., 0., 0., 0., 0., 0., 0., 0.], dtype=float32)]\n"
     ]
    }
   ],
   "source": [
    "print(\"input shape: \" + str(model.input_shape[1]))\n",
    "for layer in model.layers:\n",
    "    print(\"weights: \" + str(layer.get_weights()))"
   ]
  },
  {
   "cell_type": "code",
   "execution_count": null,
   "metadata": {},
   "outputs": [],
   "source": []
  }
 ],
 "metadata": {
  "kernelspec": {
   "display_name": "Python 3",
   "language": "python",
   "name": "python3"
  },
  "language_info": {
   "codemirror_mode": {
    "name": "ipython",
    "version": 3
   },
   "file_extension": ".py",
   "mimetype": "text/x-python",
   "name": "python",
   "nbconvert_exporter": "python",
   "pygments_lexer": "ipython3",
   "version": "3.6.5"
  }
 },
 "nbformat": 4,
 "nbformat_minor": 2
}
