{
 "cells": [
  {
   "cell_type": "code",
   "execution_count": 1,
   "metadata": {},
   "outputs": [
    {
     "name": "stdout",
     "output_type": "stream",
     "text": [
      "hello world\n"
     ]
    }
   ],
   "source": [
    "print(\"hello world\")"
   ]
  },
  {
   "cell_type": "code",
   "execution_count": 294,
   "metadata": {},
   "outputs": [],
   "source": [
    "# Render our plots inline\n",
    "%matplotlib inline\n",
    "\n",
    "import pandas as pd\n",
    "import matplotlib.pyplot as plt\n",
    "import numpy as np\n",
    "\n",
    "class LinReg:\n",
    "    \"\"\"A linear regression object that can take in data\n",
    "    and compute slope and intercept of a best-fit line\"\"\"\n",
    "    \n",
    "    def __init__(self, datapoints, col_names, ix_col=False):\n",
    "        self.col_names = col_names\n",
    "        if ix_col == False:\n",
    "            self.ix_col = self.col_names[0]\n",
    "        else:\n",
    "            self.ix_col = ix_col\n",
    "        self.df = pd.DataFrame(data=datapoints, columns=col_names)\n",
    "        #self.df = self.df.set_index(self.ix_col)\n",
    "        #self.df = self.df.sort_index()\n",
    "        self.b0 = 0\n",
    "        self.b1 = 0\n",
    "    \n",
    "    def show_points(self):\n",
    "        self.df.set_index(myreg.col_names[0]).sort_index().plot(style='o')\n",
    "    \n",
    "    def fit(self):\n",
    "        n = len(myreg.df.values)\n",
    "        x_bar = sum([x for x,y in myreg.df.values]) / n\n",
    "        y_bar = sum([y for x,y in myreg.df.values]) / n\n",
    "        sum_x2 = sum([x*x for x,y in myreg.df.values])\n",
    "        sum_xy = sum([x*y for x,y in myreg.df.values])\n",
    "        \n",
    "        self.b1 = (sum_xy - n * x_bar * y_bar) / (sum_x2 - n * (x_bar**2))\n",
    "        self.b0 = y_bar - self.b1 * x_bar\n",
    "    \n",
    "    def show_line(self):\n",
    "        print(\"y = \" + str(self.b1) + \" x + \" + str(self.b0))\n",
    "        x_vals = self.df.set_index(myreg.col_names[0]).sort_index().index\n",
    "        y_vals = self.b0 + self.b1 * x_vals\n",
    "        plt.plot(self.df.set_index(myreg.col_names[0]).sort_index(), '.', color='orange')\n",
    "        plt.plot(x_vals, y_vals, '-', color='black')\n",
    "        plt.show()"
   ]
  },
  {
   "cell_type": "code",
   "execution_count": 295,
   "metadata": {},
   "outputs": [],
   "source": [
    "myreg = LinReg([(1250,365000),(1500,400000),(900,240000),(1370,375000),(2400,520000)],['sq feet','price'],ix_col='sq feet')"
   ]
  },
  {
   "cell_type": "code",
   "execution_count": 296,
   "metadata": {},
   "outputs": [
    {
     "data": {
      "text/plain": [
       "Int64Index([900, 1250, 1370, 1500, 2400], dtype='int64', name='sq feet')"
      ]
     },
     "execution_count": 296,
     "metadata": {},
     "output_type": "execute_result"
    }
   ],
   "source": [
    "myreg.df.set_index('sq feet').sort_index().index"
   ]
  },
  {
   "cell_type": "code",
   "execution_count": 297,
   "metadata": {},
   "outputs": [
    {
     "data": {
      "text/plain": [
       "4    2400\n",
       "Name: sq feet, dtype: int64"
      ]
     },
     "execution_count": 297,
     "metadata": {},
     "output_type": "execute_result"
    }
   ],
   "source": [
    "myreg.df.sort_values(by=[myreg.col_names[0]])['sq feet'][-1:]"
   ]
  },
  {
   "cell_type": "code",
   "execution_count": 298,
   "metadata": {},
   "outputs": [
    {
     "data": {
      "text/plain": [
       "<matplotlib.axes._subplots.AxesSubplot at 0x24b93fdb048>"
      ]
     },
     "execution_count": 298,
     "metadata": {},
     "output_type": "execute_result"
    },
    {
     "data": {
      "image/png": "[encoded data removed]",
      "text/plain": [
       "<Figure size 432x288 with 1 Axes>"
      ]
     },
     "metadata": {},
     "output_type": "display_data"
    }
   ],
   "source": [
    "myreg.df.set_index(myreg.col_names[0]).sort_index().plot(style='o')"
   ]
  },
  {
   "cell_type": "code",
   "execution_count": 299,
   "metadata": {},
   "outputs": [
    {
     "name": "stdout",
     "output_type": "stream",
     "text": [
      "y = 0 x + 0\n"
     ]
    },
    {
     "data": {
      "image/png": "[encoded data removed]",
      "text/plain": [
       "<Figure size 432x288 with 1 Axes>"
      ]
     },
     "metadata": {},
     "output_type": "display_data"
    }
   ],
   "source": [
    "myreg.show_line()"
   ]
  },
  {
   "cell_type": "code",
   "execution_count": 300,
   "metadata": {},
   "outputs": [
    {
     "name": "stdout",
     "output_type": "stream",
     "text": [
      "y = 171.77835464538666 x + 125080.92170624621\n"
     ]
    },
    {
     "data": {
      "image/png": "[encoded data removed]",
      "text/plain": [
       "<Figure size 432x288 with 1 Axes>"
      ]
     },
     "metadata": {},
     "output_type": "display_data"
    }
   ],
   "source": [
    "myreg.fit()\n",
    "myreg.show_line()"
   ]
  },
  {
   "cell_type": "code",
   "execution_count": 438,
   "metadata": {},
   "outputs": [],
   "source": [
    "import random\n",
    "\n",
    "def gen_data(num_points): # non linear to show the good and bad of linear regression\n",
    "    data = []\n",
    "    for i in range(0,num_points):\n",
    "        sq_feet = random.randint(800,2501) + i\n",
    "        price = sq_feet * 225 + random.randint(5000,50000) * (-1) ** random.randint(1,3) + sq_feet * i * 2\n",
    "        data.append((sq_feet,price))\n",
    "    return data"
   ]
  },
  {
   "cell_type": "code",
   "execution_count": 439,
   "metadata": {},
   "outputs": [
    {
     "data": {
      "text/plain": [
       "[(2201, 501012), (2307, 487608), (1993, 474266)]"
      ]
     },
     "execution_count": 439,
     "metadata": {},
     "output_type": "execute_result"
    }
   ],
   "source": [
    "gen_data(3)"
   ]
  },
  {
   "cell_type": "code",
   "execution_count": 440,
   "metadata": {},
   "outputs": [],
   "source": [
    "myreg = LinReg(gen_data(100),['sq feet','price'])"
   ]
  },
  {
   "cell_type": "code",
   "execution_count": 441,
   "metadata": {},
   "outputs": [
    {
     "name": "stdout",
     "output_type": "stream",
     "text": [
      "y = 7970.994253205292 x + -13432787.293651946\n"
     ]
    },
    {
     "data": {
      "image/png": "[encoded data removed]",
      "text/plain": [
       "<Figure size 432x288 with 1 Axes>"
      ]
     },
     "metadata": {},
     "output_type": "display_data"
    }
   ],
   "source": [
    "myreg = LinReg(gen_data(3000),['sq feet','price'])\n",
    "myreg.fit()\n",
    "myreg.show_line()"
   ]
  },
  {
   "cell_type": "code",
   "execution_count": null,
   "metadata": {},
   "outputs": [],
   "source": []
  },
  {
   "cell_type": "code",
   "execution_count": null,
   "metadata": {},
   "outputs": [],
   "source": []
  }
 ],
 "metadata": {
  "kernelspec": {
   "display_name": "Python 3",
   "language": "python",
   "name": "python3"
  },
  "language_info": {
   "codemirror_mode": {
    "name": "ipython",
    "version": 3
   },
   "file_extension": ".py",
   "mimetype": "text/x-python",
   "name": "python",
   "nbconvert_exporter": "python",
   "pygments_lexer": "ipython3",
   "version": "3.6.5"
  }
 },
 "nbformat": 4,
 "nbformat_minor": 2
}
